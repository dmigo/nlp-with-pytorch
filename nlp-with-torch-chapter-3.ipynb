{
 "metadata": {
  "language_info": {
   "codemirror_mode": {
    "name": "ipython",
    "version": 3
   },
   "file_extension": ".py",
   "mimetype": "text/x-python",
   "name": "python",
   "nbconvert_exporter": "python",
   "pygments_lexer": "ipython3",
   "version": "3.8.3-final"
  },
  "orig_nbformat": 2,
  "kernelspec": {
   "name": "python_defaultSpec_1601760851505",
   "display_name": "Python 3.8.3 64-bit",
   "metadata": {
    "interpreter": {
     "hash": "31f2aee4e71d21fbe5cf8b01ff0e069b9275f58929596ceb00d14d90e3e16cd6"
    }
   }
  }
 },
 "nbformat": 4,
 "nbformat_minor": 2,
 "cells": [
  {
   "source": [
    "# Chapter 3 :: Yelp Example\n",
    "\n",
    "The book is amazing, but the code in examples is barely organized.\n",
    "\n",
    "## Requirements\n",
    "\n",
    "This notebook requires:\n",
    "\n",
    "1. [Yelp Dataset](https://www.goodreads.com/book/show/34691713-natural-language-processing-with-pytorch?ac=1&from_search=true&qid=XshWEHfZ6z&rank=1) unpacked in `./data` folder.\n",
    "1. python 3.8\n",
    "1. Packages from `requirements.txt`"
   ],
   "cell_type": "markdown",
   "metadata": {}
  },
  {
   "cell_type": "code",
   "execution_count": 23,
   "metadata": {
    "tags": []
   },
   "outputs": [],
   "source": [
    "import collections\n",
    "import json\n",
    "import typing\n",
    "import re\n",
    "import numpy as np\n",
    "import pandas as pd\n",
    "    "
   ]
  },
  {
   "cell_type": "code",
   "execution_count": 9,
   "metadata": {},
   "outputs": [],
   "source": [
    "train_proportion = 0.7\n",
    "test_proportion = 0.15\n",
    "val_proportion = 0.15\n",
    "seed = 32167"
   ]
  },
  {
   "source": [
    "`read_reviews` reads reviews as json lines and groups them by star ratings"
   ],
   "cell_type": "markdown",
   "metadata": {}
  },
  {
   "cell_type": "code",
   "execution_count": 2,
   "metadata": {},
   "outputs": [],
   "source": [
    "\n",
    "def read_reviews(path: str, limit: int) -> typing.DefaultDict:\n",
    "    by_rating = collections.defaultdict(list)\n",
    "    \n",
    "    with open(path) as reviews:\n",
    "        for x in range(limit):\n",
    "            review = json.loads(next(reviews))\n",
    "            by_rating[review['stars']].append(review)\n",
    "    \n",
    "    return by_rating"
   ]
  },
  {
   "cell_type": "code",
   "execution_count": 3,
   "metadata": {
    "tags": []
   },
   "outputs": [],
   "source": [
    "by_rating = read_reviews(\"data/yelp_academic_dataset_review.json\", 300)"
   ]
  },
  {
   "source": [
    "Mark reviews as `train`, `val`, or `test` randomly with given proportion. Convert to pandas DataFrame."
   ],
   "cell_type": "markdown",
   "metadata": {}
  },
  {
   "cell_type": "code",
   "execution_count": 19,
   "metadata": {},
   "outputs": [],
   "source": [
    "\n",
    "# Create split data\n",
    "final_list = []\n",
    "np.random.seed(seed)\n",
    "\n",
    "for _, item_list in sorted(by_rating.items()):\n",
    "    np.random.shuffle(item_list)\n",
    "    \n",
    "    n_total = len(item_list)\n",
    "    n_train = int(train_proportion * n_total)\n",
    "    n_val = int(val_proportion * n_total)\n",
    "    n_test = int(test_proportion * n_total)\n",
    "    \n",
    "    # Give data point a split attribute\n",
    "    for item in item_list[:n_train]:\n",
    "        item['split'] = 'train'\n",
    "    \n",
    "    for item in item_list[n_train:n_train+n_val]:\n",
    "        item['split'] = 'val'\n",
    "\n",
    "    for item in item_list[n_train+n_val:n_train+n_val+n_test]:\n",
    "        item['split'] = 'test'\n",
    "\n",
    "    # Add to final list\n",
    "    final_list.extend(item_list)\n",
    "\n",
    "final_reviews = pd.DataFrame(final_list)\n"
   ]
  },
  {
   "source": [
    "Remove invalid symbols, add spaces around punctuation symbols."
   ],
   "cell_type": "markdown",
   "metadata": {}
  },
  {
   "cell_type": "code",
   "execution_count": 24,
   "metadata": {},
   "outputs": [],
   "source": [
    "def clean_punctuation(text):\n",
    "    text = re.sub(r\"([.,!?])\", r\" \\1 \", text)\n",
    "    text = re.sub(r\"[^a-zA-Z.,!?]+\", r\" \", text)\n",
    "    return text\n",
    "\n",
    "def to_lower(text):\n",
    "    text = text.lower()\n",
    "    return text\n",
    "\n",
    "final_reviews.text = final_reviews.text.apply(to_lower).apply(clean_punctuation)"
   ]
  },
  {
   "cell_type": "code",
   "execution_count": null,
   "metadata": {},
   "outputs": [],
   "source": []
  }
 ]
}